{
 "cells": [
  {
   "cell_type": "markdown",
   "metadata": {},
   "source": [
    "# Modelling\n",
    "\n",
    "This notebook is part 3 of 3. For previous notebooks, please refer to <a href=\"./data_cleaning.ipynb\">Data Cleaning</a> or <a href=\"./EDA.ipynb\">Exploratory Data Analysis</a>.\n",
    "\n",
    "Here we will explore how several models perform for our predictions, and tune accordingly.\n",
    "\n",
    "## Problem Statement\n",
    "\n",
    "In the past, Chicago has been hit by an outbreak of the West Nile Virus. The Data Science team at the Disease and Treatment Agency has been tasked by the Centers for Disease Control (CDC) to develop a strategy to deploy the effective use of targeted spraying to prevent future outbreaks.\n",
    "\n",
    "Based on available data on features such as weather, location, mosquito species etc, we will build a binary classification model that predicts the presence of the West Nile Virus in the city of Chicago. The model that achieves the highest ROC AUC score on the validation set, will be selected as our production model. The model is also expected to outperform the baseline ROC AUC score of 0.5.\n",
    "\n",
    "A cost-benefit analysis will also be done to determine if the benefits of spraying outweighs its costs."
   ]
  },
  {
   "cell_type": "code",
   "execution_count": 1,
   "metadata": {},
   "outputs": [],
   "source": [
    "### Install as required ###\n",
    "\n",
    "#!pip install imbalanced-learn --user\n",
    "#!pip install delayed\n",
    "#!pip install -U scikit-learn\n",
    "\n",
    "import pandas as pd\n",
    "import numpy as np\n",
    "import matplotlib.pyplot as plt\n",
    "import seaborn as sns\n",
    "\n",
    "from sklearn.model_selection import GridSearchCV, train_test_split, cross_val_score\n",
    "from sklearn.linear_model import LogisticRegression\n",
    "from sklearn.ensemble import RandomForestClassifier, GradientBoostingClassifier\n",
    "from sklearn.preprocessing import MinMaxScaler, OneHotEncoder\n",
    "from sklearn.metrics import roc_curve, RocCurveDisplay, roc_auc_score\n",
    "from sklearn.metrics import plot_confusion_matrix, classification_report, confusion_matrix, ConfusionMatrixDisplay\n",
    "from sklearn.base import BaseEstimator, TransformerMixin\n",
    "from imblearn.over_sampling import SMOTE, RandomOverSampler\n",
    "from imblearn.under_sampling import RandomUnderSampler\n",
    "from imblearn.pipeline import make_pipeline\n",
    "\n",
    "\n",
    "from geopy.distance import distance\n",
    "\n",
    "from IPython.display import display\n",
    "\n",
    "pd.set_option('display.max_colwidth', None)\n",
    "pd.set_option('display.max_columns', None)\n",
    "pd.set_option('display.max_rows', None)\n",
    "\n",
    "random_state= np.random.RandomState(0)\n",
    "\n",
    "import warnings\n",
    "warnings.simplefilter(action='ignore')"
   ]
  },
  {
   "cell_type": "code",
   "execution_count": 2,
   "metadata": {},
   "outputs": [],
   "source": [
    "class ConvertDate(BaseEstimator,TransformerMixin):\n",
    "    \n",
    "    \"\"\"\n",
    "    This class converts the date index into features of date, year, month and index in the dataframe\n",
    "    \"\"\"\n",
    "    \n",
    "    def fit(self, X, y=None):\n",
    "        return self\n",
    "    \n",
    "    @property\n",
    "    def getFeature(self):\n",
    "        return self.feature\n",
    "    \n",
    "    def transform(self, X, y=None):\n",
    "        X['date'] = pd.to_datetime(X.index)\n",
    "        X['year'] = X.date.dt.year\n",
    "        X['month'] = X.date.dt.month\n",
    "        X['weekday'] = X.date.dt.weekday\n",
    "        X = X.drop('date',axis=1)\n",
    "        self.feature = X.columns.to_list()\n",
    "        \n",
    "        return X\n",
    "    \n",
    "class Calculate_Distance(BaseEstimator, TransformerMixin):\n",
    "    \n",
    "    \"\"\"\n",
    "    This class returns the distance between centroids and input latitude & longtitude. \n",
    "    \n",
    "    Centroids used were calculated in EDA notebook.\n",
    "        \n",
    "    \"\"\"\n",
    "    \n",
    "    def __init__(self, column_lat, column_lon, *, centroid_lat, centroid_lon, return_col_as):\n",
    "        self.centroid_lat = centroid_lat\n",
    "        self.centroid_lon = centroid_lon\n",
    "        self.column_lat = column_lat\n",
    "        self.column_lon = column_lon\n",
    "        self.return_col_as = return_col_as\n",
    "\n",
    "    @property\n",
    "    def getFeature(self):\n",
    "        return self.feature\n",
    "    \n",
    "    def fit(self, X, y=None):\n",
    "        return self\n",
    "    \n",
    "    def transform(self, X, y=None):\n",
    "        distances = []\n",
    "        for lat, lon in zip(X[self.column_lat], X[self.column_lon]):\n",
    "            dis = distance((lat, lon), (self.centroid_lat, self.centroid_lon)).km\n",
    "            distances.append(dis)\n",
    "        X[f'{self.return_col_as}_km'] = distances\n",
    "        self.feature = X.columns.to_list()\n",
    "        return X\n",
    "\n",
    "class RareLabelEncoding(BaseEstimator, TransformerMixin):\n",
    "    \n",
    "    \"\"\"\n",
    "    This class maps the string value to numerical as per input dictionary.\n",
    "    \n",
    "    In this project, we will map species as such\n",
    "    \n",
    "    {'CULEX PIPIENS':3, \n",
    "    'CULEX PIPIENS/RESTUANS':2, \n",
    "    'CULEX RESTUANS': 1},\n",
    "    'RARE' = 0), \n",
    "    \n",
    "    \"\"\"\n",
    "    \n",
    "    def __init__(self, variable, *, map_to, replace_with):\n",
    "        self.variable = variable\n",
    "        self.replace_with = replace_with\n",
    "        self.map_to = map_to\n",
    "        \n",
    "    @property\n",
    "    def getFeature(self):\n",
    "        return self.feature\n",
    "    \n",
    "    def fit(self, X, y=None):\n",
    "        return self\n",
    "    \n",
    "    def transform(self, X, y=None):\n",
    "        X[f'{self.variable}_tr'] = np.where(X[self.variable].isin(self.map_to),\n",
    "                               X[self.variable].map(self.map_to),\n",
    "                              self.replace_with)\n",
    "        X = X.drop([self.variable], axis=1)\n",
    "        self.feature = X.columns.to_list()\n",
    "        return X"
   ]
  },
  {
   "cell_type": "code",
   "execution_count": 3,
   "metadata": {},
   "outputs": [],
   "source": [
    "def score(model,X_train, X_test):\n",
    "    \n",
    "    \"\"\"\n",
    "    This function scores the model by returning the confusion matrix and classification report of the model\n",
    "    \n",
    "    \"\"\"\n",
    "    \n",
    "    # Get predictions\n",
    "    preds = model.predict(X_test)\n",
    "    cm = confusion_matrix(y_test, preds)\n",
    "    ConfusionMatrixDisplay(cm, display_labels=['WNV Not Present','WNV Present']).plot(cmap='GnBu')\n",
    "\n",
    "    print(\"Training Score:\",model.score(X_train,y_train))\n",
    "    print(\"Testing Score:\",model.score(X_test,y_test))\n",
    "    print(\"\\n\")\n",
    "    print(classification_report(y_test, preds)) \n",
    "\n",
    "    \n",
    "    \n",
    "def fimportance_df(list_of_features,list_of_feature_scores):\n",
    "    \n",
    "    \"\"\"\n",
    "    This function returns a dataframe, ranking the top features as the top rows.\n",
    "    \n",
    "    \"\"\"\n",
    "    abs_list = [abs(i) for i in list_of_feature_scores]\n",
    "    fimportance = zip(list_of_features, list_of_feature_scores, abs_list)\n",
    "    df = pd.DataFrame(fimportance,columns=['Feature','Feature_Significance','Feature_Significance_Abs'])\n",
    "    df = df.sort_values(\"Feature_Significance_Abs\",ascending=False).reset_index(drop=True)\n",
    "    return df[['Feature','Feature_Significance']]\n",
    "\n",
    "#print(getattr(grid_rf.best_estimator_.named_steps.randomforestclassifier, \"feature_importances_\"))    \n",
    "    \n",
    "    \n",
    "    \n",
    "def fimportance(list_of_features, list_of_feature_scores):\n",
    "\n",
    "    \"\"\"\n",
    "    This function plots the feature importance/coefficients as horizontal bar plot.\n",
    "    \n",
    "    It takes in dataframe generated from the fimportance_df function.\n",
    "    \n",
    "    \"\"\"    \n",
    "    \n",
    "    # Initialize the matplotlib figure\n",
    "    df=fimportance_df(list_of_features, list_of_feature_scores)\n",
    "    \n",
    "    with sns.axes_style(\"whitegrid\"):\n",
    "        f, ax = plt.subplots(figsize=(8, 12))\n",
    "        \n",
    "        # Plot the features\n",
    "        sns.set_color_codes(\"muted\")\n",
    "        hbar = sns.barplot(x=\"Feature_Significance\",\n",
    "                            y=\"Feature\",\n",
    "                            data=df,\n",
    "                            color=\"b\")\n",
    "        \n",
    "    for bar in hbar.patches:\n",
    "   \n",
    "        # Using Matplotlib's annotate function and\n",
    "        # passing the coordinates where the annotation shall be done\n",
    "        # x-coordinate: bar.get_width()\n",
    "        # y-coordinate: bar.get_y()+bar.get_height()/2\n",
    "        # free space to be left to make graph pleasing: (0, 0)\n",
    "        # ha and va stand for the horizontal and vertical alignment\n",
    "        hbar.annotate(format(bar.get_width(), '.3f'), # text is width of bar\n",
    "                      (bar.get_width(), bar.get_y()+bar.get_height()/2), # coordinates of each annotation\n",
    "                      ha='left', va='center',\n",
    "                       size=10, xytext=(2, 0),\n",
    "                       textcoords='offset points')\n",
    "\n",
    "    # Add axis label\n",
    "    ax.set(title= \"Feature Significance\",\n",
    "           xlabel=\"Score\",\n",
    "          ylabel=\"Feature\")\n",
    "    ax.xaxis.get_label().set_fontsize(20)\n",
    "    ax.yaxis.get_label().set_fontsize(20)\n",
    "    ax.title.set_fontsize(30)\n",
    "    sns.despine(left=True, bottom=True)\n",
    "\n",
    "    \n",
    "    \n",
    "def roc(model, model_name, X_train, X_test): \n",
    "    \n",
    "    \"\"\"\n",
    "    This function generates the ROC/AUC curve of the model.\n",
    "    \n",
    "    Due to the imbalanced nature of the data, the preferred metrics for this project is ROC/AUC.\n",
    "    \n",
    "    \"\"\"      \n",
    "    \n",
    "    plt.figure(figsize=(16,10))\n",
    "    \n",
    "    # Predict probabilities from X_test\n",
    "    df = pd.DataFrame(model.predict_proba(X_test))\n",
    "    preds = df.drop(columns=0)\n",
    "    \n",
    "    # \n",
    "    fpr, tpr, _ = roc_curve(y_test, preds)\n",
    "    auc = roc_auc_score(y_test, preds)\n",
    "\n",
    "    df2 = pd.DataFrame(model.predict_proba(X_train))\n",
    "    preds2 = df2.drop(columns=0)\n",
    "    fpr2, tpr2, _ = roc_curve(y_train, preds2)\n",
    "    auc2 = roc_auc_score(y_train, preds2)\n",
    "    \n",
    "    with sns.axes_style(style=\"darkgrid\"):\n",
    "        plt.plot(fpr,tpr,color='orange',label=\"%s test, auc=%s\" %(model_name, format(auc,\".3f\")))\n",
    "        plt.plot(fpr2,tpr2,color='blue',label=\"%s train, auc=%s\" %(model_name, format(auc2,\".3f\")))\n",
    "        plt.plot(y_test,y_test,color='gray',linestyle=':') #baseline 50%\n",
    "    plt.legend(loc='lower right')    \n",
    "    \n",
    "    sns.despine(left=True,bottom=True)"
   ]
  },
  {
   "cell_type": "code",
   "execution_count": 4,
   "metadata": {
    "scrolled": false
   },
   "outputs": [
    {
     "name": "stdout",
     "output_type": "stream",
     "text": [
      "<class 'pandas.core.frame.DataFrame'>\n",
      "Index: 8387 entries, 2007-05-29 to 2013-09-26\n",
      "Data columns (total 25 columns):\n",
      " #   Column           Non-Null Count  Dtype  \n",
      "---  ------           --------------  -----  \n",
      " 0   species          8387 non-null   object \n",
      " 1   trap             8387 non-null   object \n",
      " 2   latitude         8387 non-null   float64\n",
      " 3   longitude        8387 non-null   float64\n",
      " 4   addressaccuracy  8387 non-null   int64  \n",
      " 5   nummosquitos     8387 non-null   int64  \n",
      " 6   wnvpresent       8387 non-null   int64  \n",
      " 7   station          8387 non-null   float64\n",
      " 8   tmax             8387 non-null   float64\n",
      " 9   tmin             8387 non-null   float64\n",
      " 10  tavg             8387 non-null   float64\n",
      " 11  depart           8387 non-null   float64\n",
      " 12  dewpoint         8387 non-null   float64\n",
      " 13  wetbulb          8387 non-null   float64\n",
      " 14  heat             8387 non-null   float64\n",
      " 15  cool             8387 non-null   float64\n",
      " 16  sunrise          8387 non-null   float64\n",
      " 17  sunset           8387 non-null   float64\n",
      " 18  snowfall         8387 non-null   float64\n",
      " 19  preciptotal      8387 non-null   float64\n",
      " 20  stnpressure      8387 non-null   float64\n",
      " 21  sealevel         8387 non-null   float64\n",
      " 22  resultspeed      8387 non-null   float64\n",
      " 23  resultdir        8387 non-null   float64\n",
      " 24  avgspeed         8387 non-null   float64\n",
      "dtypes: float64(20), int64(3), object(2)\n",
      "memory usage: 1.7+ MB\n",
      "None\n"
     ]
    },
    {
     "data": {
      "text/html": [
       "<div>\n",
       "<style scoped>\n",
       "    .dataframe tbody tr th:only-of-type {\n",
       "        vertical-align: middle;\n",
       "    }\n",
       "\n",
       "    .dataframe tbody tr th {\n",
       "        vertical-align: top;\n",
       "    }\n",
       "\n",
       "    .dataframe thead th {\n",
       "        text-align: right;\n",
       "    }\n",
       "</style>\n",
       "<table border=\"1\" class=\"dataframe\">\n",
       "  <thead>\n",
       "    <tr style=\"text-align: right;\">\n",
       "      <th></th>\n",
       "      <th>species</th>\n",
       "      <th>trap</th>\n",
       "      <th>latitude</th>\n",
       "      <th>longitude</th>\n",
       "      <th>addressaccuracy</th>\n",
       "      <th>nummosquitos</th>\n",
       "      <th>wnvpresent</th>\n",
       "      <th>station</th>\n",
       "      <th>tmax</th>\n",
       "      <th>tmin</th>\n",
       "      <th>tavg</th>\n",
       "      <th>depart</th>\n",
       "      <th>dewpoint</th>\n",
       "      <th>wetbulb</th>\n",
       "      <th>heat</th>\n",
       "      <th>cool</th>\n",
       "      <th>sunrise</th>\n",
       "      <th>sunset</th>\n",
       "      <th>snowfall</th>\n",
       "      <th>preciptotal</th>\n",
       "      <th>stnpressure</th>\n",
       "      <th>sealevel</th>\n",
       "      <th>resultspeed</th>\n",
       "      <th>resultdir</th>\n",
       "      <th>avgspeed</th>\n",
       "    </tr>\n",
       "    <tr>\n",
       "      <th>date</th>\n",
       "      <th></th>\n",
       "      <th></th>\n",
       "      <th></th>\n",
       "      <th></th>\n",
       "      <th></th>\n",
       "      <th></th>\n",
       "      <th></th>\n",
       "      <th></th>\n",
       "      <th></th>\n",
       "      <th></th>\n",
       "      <th></th>\n",
       "      <th></th>\n",
       "      <th></th>\n",
       "      <th></th>\n",
       "      <th></th>\n",
       "      <th></th>\n",
       "      <th></th>\n",
       "      <th></th>\n",
       "      <th></th>\n",
       "      <th></th>\n",
       "      <th></th>\n",
       "      <th></th>\n",
       "      <th></th>\n",
       "      <th></th>\n",
       "      <th></th>\n",
       "    </tr>\n",
       "  </thead>\n",
       "  <tbody>\n",
       "    <tr>\n",
       "      <th>2007-05-29</th>\n",
       "      <td>CULEX PIPIENS/RESTUANS</td>\n",
       "      <td>T048</td>\n",
       "      <td>41.867108</td>\n",
       "      <td>-87.654224</td>\n",
       "      <td>8</td>\n",
       "      <td>1</td>\n",
       "      <td>0</td>\n",
       "      <td>1.0</td>\n",
       "      <td>88.0</td>\n",
       "      <td>60.0</td>\n",
       "      <td>74.0</td>\n",
       "      <td>10.0</td>\n",
       "      <td>58.0</td>\n",
       "      <td>65.0</td>\n",
       "      <td>0.0</td>\n",
       "      <td>9.0</td>\n",
       "      <td>421.0</td>\n",
       "      <td>1917.0</td>\n",
       "      <td>0.0</td>\n",
       "      <td>0.0</td>\n",
       "      <td>29.39</td>\n",
       "      <td>30.11</td>\n",
       "      <td>5.8</td>\n",
       "      <td>18.0</td>\n",
       "      <td>6.5</td>\n",
       "    </tr>\n",
       "    <tr>\n",
       "      <th>2007-05-29</th>\n",
       "      <td>CULEX RESTUANS</td>\n",
       "      <td>T048</td>\n",
       "      <td>41.867108</td>\n",
       "      <td>-87.654224</td>\n",
       "      <td>8</td>\n",
       "      <td>2</td>\n",
       "      <td>0</td>\n",
       "      <td>1.0</td>\n",
       "      <td>88.0</td>\n",
       "      <td>60.0</td>\n",
       "      <td>74.0</td>\n",
       "      <td>10.0</td>\n",
       "      <td>58.0</td>\n",
       "      <td>65.0</td>\n",
       "      <td>0.0</td>\n",
       "      <td>9.0</td>\n",
       "      <td>421.0</td>\n",
       "      <td>1917.0</td>\n",
       "      <td>0.0</td>\n",
       "      <td>0.0</td>\n",
       "      <td>29.39</td>\n",
       "      <td>30.11</td>\n",
       "      <td>5.8</td>\n",
       "      <td>18.0</td>\n",
       "      <td>6.5</td>\n",
       "    </tr>\n",
       "    <tr>\n",
       "      <th>2007-05-29</th>\n",
       "      <td>CULEX RESTUANS</td>\n",
       "      <td>T091</td>\n",
       "      <td>41.862292</td>\n",
       "      <td>-87.648860</td>\n",
       "      <td>8</td>\n",
       "      <td>1</td>\n",
       "      <td>0</td>\n",
       "      <td>1.0</td>\n",
       "      <td>88.0</td>\n",
       "      <td>60.0</td>\n",
       "      <td>74.0</td>\n",
       "      <td>10.0</td>\n",
       "      <td>58.0</td>\n",
       "      <td>65.0</td>\n",
       "      <td>0.0</td>\n",
       "      <td>9.0</td>\n",
       "      <td>421.0</td>\n",
       "      <td>1917.0</td>\n",
       "      <td>0.0</td>\n",
       "      <td>0.0</td>\n",
       "      <td>29.39</td>\n",
       "      <td>30.11</td>\n",
       "      <td>5.8</td>\n",
       "      <td>18.0</td>\n",
       "      <td>6.5</td>\n",
       "    </tr>\n",
       "    <tr>\n",
       "      <th>2007-05-29</th>\n",
       "      <td>CULEX RESTUANS</td>\n",
       "      <td>T049</td>\n",
       "      <td>41.896282</td>\n",
       "      <td>-87.655232</td>\n",
       "      <td>8</td>\n",
       "      <td>1</td>\n",
       "      <td>0</td>\n",
       "      <td>1.0</td>\n",
       "      <td>88.0</td>\n",
       "      <td>60.0</td>\n",
       "      <td>74.0</td>\n",
       "      <td>10.0</td>\n",
       "      <td>58.0</td>\n",
       "      <td>65.0</td>\n",
       "      <td>0.0</td>\n",
       "      <td>9.0</td>\n",
       "      <td>421.0</td>\n",
       "      <td>1917.0</td>\n",
       "      <td>0.0</td>\n",
       "      <td>0.0</td>\n",
       "      <td>29.39</td>\n",
       "      <td>30.11</td>\n",
       "      <td>5.8</td>\n",
       "      <td>18.0</td>\n",
       "      <td>6.5</td>\n",
       "    </tr>\n",
       "    <tr>\n",
       "      <th>2007-05-29</th>\n",
       "      <td>CULEX RESTUANS</td>\n",
       "      <td>T153</td>\n",
       "      <td>41.907645</td>\n",
       "      <td>-87.760886</td>\n",
       "      <td>8</td>\n",
       "      <td>1</td>\n",
       "      <td>0</td>\n",
       "      <td>1.0</td>\n",
       "      <td>88.0</td>\n",
       "      <td>60.0</td>\n",
       "      <td>74.0</td>\n",
       "      <td>10.0</td>\n",
       "      <td>58.0</td>\n",
       "      <td>65.0</td>\n",
       "      <td>0.0</td>\n",
       "      <td>9.0</td>\n",
       "      <td>421.0</td>\n",
       "      <td>1917.0</td>\n",
       "      <td>0.0</td>\n",
       "      <td>0.0</td>\n",
       "      <td>29.39</td>\n",
       "      <td>30.11</td>\n",
       "      <td>5.8</td>\n",
       "      <td>18.0</td>\n",
       "      <td>6.5</td>\n",
       "    </tr>\n",
       "  </tbody>\n",
       "</table>\n",
       "</div>"
      ],
      "text/plain": [
       "                           species  trap   latitude  longitude  \\\n",
       "date                                                             \n",
       "2007-05-29  CULEX PIPIENS/RESTUANS  T048  41.867108 -87.654224   \n",
       "2007-05-29          CULEX RESTUANS  T048  41.867108 -87.654224   \n",
       "2007-05-29          CULEX RESTUANS  T091  41.862292 -87.648860   \n",
       "2007-05-29          CULEX RESTUANS  T049  41.896282 -87.655232   \n",
       "2007-05-29          CULEX RESTUANS  T153  41.907645 -87.760886   \n",
       "\n",
       "            addressaccuracy  nummosquitos  wnvpresent  station  tmax  tmin  \\\n",
       "date                                                                         \n",
       "2007-05-29                8             1           0      1.0  88.0  60.0   \n",
       "2007-05-29                8             2           0      1.0  88.0  60.0   \n",
       "2007-05-29                8             1           0      1.0  88.0  60.0   \n",
       "2007-05-29                8             1           0      1.0  88.0  60.0   \n",
       "2007-05-29                8             1           0      1.0  88.0  60.0   \n",
       "\n",
       "            tavg  depart  dewpoint  wetbulb  heat  cool  sunrise  sunset  \\\n",
       "date                                                                       \n",
       "2007-05-29  74.0    10.0      58.0     65.0   0.0   9.0    421.0  1917.0   \n",
       "2007-05-29  74.0    10.0      58.0     65.0   0.0   9.0    421.0  1917.0   \n",
       "2007-05-29  74.0    10.0      58.0     65.0   0.0   9.0    421.0  1917.0   \n",
       "2007-05-29  74.0    10.0      58.0     65.0   0.0   9.0    421.0  1917.0   \n",
       "2007-05-29  74.0    10.0      58.0     65.0   0.0   9.0    421.0  1917.0   \n",
       "\n",
       "            snowfall  preciptotal  stnpressure  sealevel  resultspeed  \\\n",
       "date                                                                    \n",
       "2007-05-29       0.0          0.0        29.39     30.11          5.8   \n",
       "2007-05-29       0.0          0.0        29.39     30.11          5.8   \n",
       "2007-05-29       0.0          0.0        29.39     30.11          5.8   \n",
       "2007-05-29       0.0          0.0        29.39     30.11          5.8   \n",
       "2007-05-29       0.0          0.0        29.39     30.11          5.8   \n",
       "\n",
       "            resultdir  avgspeed  \n",
       "date                             \n",
       "2007-05-29       18.0       6.5  \n",
       "2007-05-29       18.0       6.5  \n",
       "2007-05-29       18.0       6.5  \n",
       "2007-05-29       18.0       6.5  \n",
       "2007-05-29       18.0       6.5  "
      ]
     },
     "execution_count": 4,
     "metadata": {},
     "output_type": "execute_result"
    }
   ],
   "source": [
    "# Import cleaned data in pandas\n",
    "df= pd.read_csv(\"./asset/full_train.csv\",index_col='date')\n",
    "print(df.info())\n",
    "df.head()"
   ]
  },
  {
   "cell_type": "markdown",
   "metadata": {},
   "source": [
    "## Data Preprocessing & Feature Engineering\n",
    "\n",
    "Before we feed our data into the models, we will perform a few transforms to create new features. The following actions are going to be undertaken in this step:\n",
    "\n",
    "   1) Mapping of mosquito species - Since only Pipiens and Restuans are significant (other mosquito species has no history of carrying the virus), we will label the rest as 0\n",
    "\n",
    "   2) Time-based features - From the date index, we will create features of date, year, month and weekday\n",
    "\n",
    "   3) Distance from centroids - From the EDA we identified 2 main areas where positive cases tend to cluster. Here we create a feature from the distance of the coordinates of each trap to the corresponding cluster centers."
   ]
  },
  {
   "cell_type": "code",
   "execution_count": 5,
   "metadata": {},
   "outputs": [
    {
     "name": "stdout",
     "output_type": "stream",
     "text": [
      "(6290, 22) (6290,)\n"
     ]
    }
   ],
   "source": [
    "# Initialize features and target\n",
    "# 'trap' is dropped as we already have longitude and latitude as the location coordinates of the traps\n",
    "X = df.drop([\"wnvpresent\",'trap','nummosquitos'],axis=1)\n",
    "y = df.wnvpresent\n",
    "\n",
    "# Train Test Split\n",
    "X_train, X_test, y_train, y_test = train_test_split(X,y,stratify=y, random_state=0)\n",
    "\n",
    "print(X_train.shape,y_train.shape)"
   ]
  },
  {
   "cell_type": "code",
   "execution_count": 6,
   "metadata": {},
   "outputs": [],
   "source": [
    "# Create a pipeline to preprocess and transform dataframe \n",
    "\n",
    "# map mosquito species\n",
    "mapping = {'CULEX PIPIENS':3, 'CULEX PIPIENS/RESTUANS':2, 'CULEX RESTUANS': 1}\n",
    "\n",
    "#create pipeline\n",
    "preprocess_pipe = make_pipeline(\n",
    "    \n",
    "                    # Encode mosquito species. Based on EDA, Restuans and Pipiens are the most significant.\n",
    "                     # Therefore we will encode the rest as 0\n",
    "                    RareLabelEncoding('species', \n",
    "                                      map_to = mapping,\n",
    "                                      replace_with = 0),\n",
    "    \n",
    "                     # Convert date into month, year and weekday\n",
    "                     ConvertDate(),\n",
    "    \n",
    "                     # Calculate distance to each of the 2 main centroids from EDA ('hot zone' of positive cases)\n",
    "                     Calculate_Distance('latitude', 'longitude', centroid_lat=41.95726979, centroid_lon=-87.78117394,\n",
    "                                        return_col_as = 'dist_centroid_1'),\n",
    "                     Calculate_Distance('latitude', 'longitude', centroid_lat=41.74808405, centroid_lon=-87.65556425,\n",
    "                                        return_col_as = 'dist_centroid_2')\n",
    ")"
   ]
  },
  {
   "cell_type": "code",
   "execution_count": 7,
   "metadata": {},
   "outputs": [],
   "source": [
    "# preprocess data through pipeline for modelling\n",
    "\n",
    "X_train_t = preprocess_pipe.fit_transform(X_train)\n",
    "X_test_t = preprocess_pipe.transform(X_test)"
   ]
  },
  {
   "cell_type": "markdown",
   "metadata": {},
   "source": [
    "## Random Forest\n",
    "\n",
    "For the first model, we will create a pipeline of SMOTE and random forest classifier. SMOTE will be used to resample the training data to deal with data imbalances."
   ]
  },
  {
   "cell_type": "code",
   "execution_count": 8,
   "metadata": {},
   "outputs": [],
   "source": [
    "# create modelling pipeline with SMOTE to deal with imbalanced classes\n",
    "\n",
    "rf_pipe = make_pipeline(SMOTE(random_state=random_state),\n",
    "                           \n",
    "                           ### Insert Model here for future modelling ###\n",
    "                           \n",
    "                           RandomForestClassifier(random_state=random_state),\n",
    "                          )\n",
    "\n",
    "# define grid params for random forest classifier\n",
    "rf_params = {\n",
    "    'randomforestclassifier__n_estimators':[20,50,100],\n",
    "    'randomforestclassifier__max_depth':[5,20,50],\n",
    "    'randomforestclassifier__criterion':['gini','entropy'],\n",
    "    'randomforestclassifier__max_leaf_nodes':[5,10,15],\n",
    "    'randomforestclassifier__class_weight':['balanced','balanced_subsample'],\n",
    "}\n",
    "\n",
    "# Instantiate GridSearchCV\n",
    "# Due to imbalanced data, scoring = roc & auc\n",
    "grid_rf = GridSearchCV(rf_pipe, param_grid = rf_params, verbose = 1, n_jobs=-1, cv=5, scoring='roc_auc')"
   ]
  },
  {
   "cell_type": "code",
   "execution_count": 9,
   "metadata": {},
   "outputs": [
    {
     "name": "stdout",
     "output_type": "stream",
     "text": [
      "Fitting 5 folds for each of 108 candidates, totalling 540 fits\n"
     ]
    },
    {
     "data": {
      "text/plain": [
       "GridSearchCV(cv=5,\n",
       "             estimator=Pipeline(steps=[('smote',\n",
       "                                        SMOTE(random_state=RandomState(MT19937) at 0x27251643C40)),\n",
       "                                       ('randomforestclassifier',\n",
       "                                        RandomForestClassifier(random_state=RandomState(MT19937) at 0x27251643C40))]),\n",
       "             n_jobs=-1,\n",
       "             param_grid={'randomforestclassifier__class_weight': ['balanced',\n",
       "                                                                  'balanced_subsample'],\n",
       "                         'randomforestclassifier__criterion': ['gini',\n",
       "                                                               'entropy'],\n",
       "                         'randomforestclassifier__max_depth': [5, 20, 50],\n",
       "                         'randomforestclassifier__max_leaf_nodes': [5, 10, 15],\n",
       "                         'randomforestclassifier__n_estimators': [20, 50, 100]},\n",
       "             scoring='roc_auc', verbose=1)"
      ]
     },
     "execution_count": 9,
     "metadata": {},
     "output_type": "execute_result"
    }
   ],
   "source": [
    "grid_rf.fit(X_train_t,y_train)"
   ]
  },
  {
   "cell_type": "code",
   "execution_count": 10,
   "metadata": {},
   "outputs": [
    {
     "name": "stdout",
     "output_type": "stream",
     "text": [
      "best score 0.8276475702746386\n",
      "best params {'randomforestclassifier__class_weight': 'balanced_subsample', 'randomforestclassifier__criterion': 'gini', 'randomforestclassifier__max_depth': 20, 'randomforestclassifier__max_leaf_nodes': 15, 'randomforestclassifier__n_estimators': 100}\n"
     ]
    }
   ],
   "source": [
    "print(\"best score\", grid_rf.best_score_)\n",
    "print(\"best params\", grid_rf.best_params_)"
   ]
  },
  {
   "cell_type": "code",
   "execution_count": 11,
   "metadata": {
    "scrolled": false
   },
   "outputs": [
    {
     "name": "stdout",
     "output_type": "stream",
     "text": [
      "Training Score: 0.8613324404445293\n",
      "Testing Score: 0.8283723049428917\n",
      "\n",
      "\n",
      "              precision    recall  f1-score   support\n",
      "\n",
      "           0       0.98      0.78      0.87      1983\n",
      "           1       0.16      0.74      0.27       114\n",
      "\n",
      "    accuracy                           0.78      2097\n",
      "   macro avg       0.57      0.76      0.57      2097\n",
      "weighted avg       0.94      0.78      0.84      2097\n",
      "\n"
     ]
    },
    {
     "data": {
      "image/png": "[encoded data removed]",
      "text/plain": [
       "<Figure size 432x288 with 2 Axes>"
      ]
     },
     "metadata": {
      "needs_background": "light"
     },
     "output_type": "display_data"
    }
   ],
   "source": [
    "score(grid_rf, X_train_t, X_test_t)"
   ]
  },
  {
   "cell_type": "code",
   "execution_count": 12,
   "metadata": {
    "scrolled": false
   },
   "outputs": [
    {
     "data": {
      "image/png": "[encoded data removed]",
      "text/plain": [
       "<Figure size 1152x720 with 1 Axes>"
      ]
     },
     "metadata": {
      "needs_background": "light"
     },
     "output_type": "display_data"
    }
   ],
   "source": [
    "roc(grid_rf,\"RandomForestClassifier\", X_train_t, X_test_t)"
   ]
  },
  {
   "cell_type": "markdown",
   "metadata": {},
   "source": [
    "### Scoring\n",
    "\n",
    "As shown above, Random Forest Classifier performs fairly well with a test accuracy of 82.8%. However, a train score of 86.1% suggest some overfit in the training set.\n",
    "\n",
    "In terms of classification report, precision and recall scores of predicting the true presence of West Nile Virus is significantly lower than predicting the lack of presence. Therefore, it is better that we predict where the West Nile Virus is more likely to be absent and plan for sprays inversely."
   ]
  },
  {
   "cell_type": "code",
   "execution_count": 13,
   "metadata": {},
   "outputs": [
    {
     "data": {
      "image/png": "[encoded data removed]",
      "text/plain": [
       "<Figure size 576x864 with 1 Axes>"
      ]
     },
     "metadata": {},
     "output_type": "display_data"
    }
   ],
   "source": [
    "rf_score = grid_rf.best_estimator_.named_steps.randomforestclassifier.feature_importances_\n",
    "fimportance(X_train_t.columns.to_list(), rf_score)"
   ]
  },
  {
   "cell_type": "markdown",
   "metadata": {},
   "source": [
    "### Feature Significance\n",
    "\n",
    "As shown in the bar plot above, the top 3 features are significantly more important than the rest. As expected, the species of mosquitos are among the top features and it is expected as explored during EDA.\n",
    "\n",
    "`Sunrise` and `sunset` that were merged from the weather data also proved to be significant, and correlated to these are the rest of the weather data that is derived from temperature. \n",
    "\n",
    "`Month` is also a significant feature, as explored in EDA, as positive cases tend to be clustered in the summer months."
   ]
  },
  {
   "cell_type": "markdown",
   "metadata": {},
   "source": [
    "## Logistic Regression\n",
    "\n",
    "Similar to the random forest model, we would also need to deal with imbalanced data. Here we deal with it using SMOTE, and then passing min max scaler to scale the data before modelling."
   ]
  },
  {
   "cell_type": "code",
   "execution_count": 14,
   "metadata": {},
   "outputs": [],
   "source": [
    "# create modelling pipeline with SMOTE to deal with imbalanced classes\n",
    "\n",
    "lr_pipe = make_pipeline(SMOTE(random_state=random_state),\n",
    "                        MinMaxScaler(),\n",
    "                           \n",
    "                           ### Insert Model here for future modelling ###\n",
    "                           \n",
    "                           LogisticRegression(max_iter=200,random_state=random_state)\n",
    "                          )\n",
    "\n",
    "\n",
    "# define grid params for logistic regression\n",
    "lr_params = {\n",
    "    'logisticregression__C': [0.02, 0.05, 0.1],\n",
    "    'logisticregression__solver' : ['newton-cg','saga', 'sag', 'lbfgs'],\n",
    "    'logisticregression__multi_class': ['multinomial', 'ovr', 'auto'],\n",
    "    'logisticregression__penalty':['l1','l2','elasticnet'],\n",
    "    'logisticregression__l1_ratio':[None, 0.25,0.5,0.75],\n",
    "    'logisticregression__class_weight':[None, 'balanced']\n",
    "}\n",
    "\n",
    "# Instantiate GridSearchCV\n",
    "# Due to imbalanced data, scoring = roc & auc\n",
    "grid_lr = GridSearchCV(lr_pipe, param_grid = lr_params, verbose = 1, n_jobs=-1, cv=5, scoring='roc_auc')"
   ]
  },
  {
   "cell_type": "code",
   "execution_count": null,
   "metadata": {
    "scrolled": true
   },
   "outputs": [
    {
     "name": "stdout",
     "output_type": "stream",
     "text": [
      "Fitting 5 folds for each of 864 candidates, totalling 4320 fits\n"
     ]
    }
   ],
   "source": [
    "grid_lr.fit(X_train_t,y_train)"
   ]
  },
  {
   "cell_type": "code",
   "execution_count": null,
   "metadata": {},
   "outputs": [],
   "source": [
    "print(\"best score\", grid_lr.best_score_)\n",
    "print(\"best params\", grid_lr.best_params_)"
   ]
  },
  {
   "cell_type": "code",
   "execution_count": null,
   "metadata": {},
   "outputs": [],
   "source": [
    "score(grid_lr, X_train_t, X_test_t)"
   ]
  },
  {
   "cell_type": "code",
   "execution_count": null,
   "metadata": {
    "scrolled": false
   },
   "outputs": [],
   "source": [
    "roc(grid_lr,\"LogisticRegression\", X_train_t, X_test_t)"
   ]
  },
  {
   "cell_type": "markdown",
   "metadata": {},
   "source": [
    "### Scoring\n",
    "\n",
    "Compared against the random forest model, logistic regression offers lower accuracy, but also a much lower variance; the model is not overfitted, although its accuracy is not as high.\n",
    "\n",
    "Similar to the random forest classifier, precision score at predicting the presence of West Nile Virus leaves much to be desired. Interestingly, the recall score of both classes are similar."
   ]
  },
  {
   "cell_type": "code",
   "execution_count": null,
   "metadata": {},
   "outputs": [],
   "source": [
    "lr_score = grid_lr.best_estimator_.named_steps.logisticregression.coef_\n",
    "lr_score2 = [np.exp(i) for i in lr_score[0]]\n",
    "fimportance(X_train_t.columns.to_list(), lr_score2)"
   ]
  },
  {
   "cell_type": "markdown",
   "metadata": {},
   "source": [
    "### Feature Significance\n",
    "\n",
    "The top few features are similar to random forest model in terms of the weather & temperature based features. In this model, the preferred location metric is distances to centroids. They are rated higher than they are in the random forest model, which prefers longitude feature."
   ]
  },
  {
   "cell_type": "markdown",
   "metadata": {},
   "source": [
    "## Gradient Boost\n",
    "\n",
    "The third model used is gradient boost. This is another tree-based model and can be considered as an extension to the random forest model.\n",
    "\n",
    "SMOTE is used to deal with imbalanced data."
   ]
  },
  {
   "cell_type": "code",
   "execution_count": null,
   "metadata": {},
   "outputs": [],
   "source": [
    "# create modelling pipeline with SMOTE to deal with imbalanced classes\n",
    "\n",
    "gb_pipe = make_pipeline(SMOTE(random_state=random_state),\n",
    "                           \n",
    "                           ### Insert Model here for future modelling ###\n",
    "                           \n",
    "                           GradientBoostingClassifier(random_state=random_state,\n",
    "                                                      n_iter_no_change=3)\n",
    "                          )\n",
    "\n",
    "\n",
    "# define grid params for gradient boosting\n",
    "gb_params = {\n",
    "    'gradientboostingclassifier__learning_rate': [0.1, 0.2, 0.3],\n",
    "    'gradientboostingclassifier__criterion' : ['friedman_mse','mse'],\n",
    "    'gradientboostingclassifier__n_estimators': [20,50,100],\n",
    "    'gradientboostingclassifier__max_features':['sqrt','log2'],\n",
    "    'gradientboostingclassifier__loss':['deviance','exponential']\n",
    "}\n",
    "\n",
    "        \n",
    "# Instantiate GridSearchCV\n",
    "# Due to imbalanced data, scoring = roc & auc\n",
    "grid_gb = GridSearchCV(gb_pipe, param_grid = gb_params, verbose = 1, n_jobs=-1, cv=5, scoring='roc_auc')"
   ]
  },
  {
   "cell_type": "code",
   "execution_count": null,
   "metadata": {},
   "outputs": [],
   "source": [
    "grid_gb.fit(X_train_t,y_train)"
   ]
  },
  {
   "cell_type": "code",
   "execution_count": null,
   "metadata": {},
   "outputs": [],
   "source": [
    "print(\"best score\", grid_gb.best_score_)\n",
    "print(\"best params\", grid_gb.best_params_)"
   ]
  },
  {
   "cell_type": "code",
   "execution_count": null,
   "metadata": {},
   "outputs": [],
   "source": [
    "score(grid_gb, X_train_t, X_test_t)"
   ]
  },
  {
   "cell_type": "code",
   "execution_count": null,
   "metadata": {},
   "outputs": [],
   "source": [
    "roc(grid_gb,\"GradientBoostClassifier\", X_train_t, X_test_t)"
   ]
  },
  {
   "cell_type": "markdown",
   "metadata": {},
   "source": [
    "### Scoring\n",
    "\n",
    "The AUC score of the gradient boost model is the highest among the 3 models, but its variance is also the highest.\n",
    "\n",
    "Precision and Recall scores for class 1 are abysmal. Perhaps more tuning is required for this model."
   ]
  },
  {
   "cell_type": "code",
   "execution_count": null,
   "metadata": {
    "scrolled": false
   },
   "outputs": [],
   "source": [
    "gb_score = grid_gb.best_estimator_.named_steps.gradientboostingclassifier.feature_importances_\n",
    "\n",
    "fimportance(X_train_t.columns.to_list(),gb_score)"
   ]
  },
  {
   "cell_type": "markdown",
   "metadata": {},
   "source": [
    "### Feature Significance\n",
    "\n",
    "The features rank similarly to random forest model. Species of mosquito takes a very high weightage, double of the 2nd place feature of sunrise."
   ]
  },
  {
   "cell_type": "markdown",
   "metadata": {},
   "source": [
    "## Bias-Variance Tradeoff for Logistic Regression\n",
    "\n",
    "In order to further reduce the variance between the train and test scores, we will tune and simplify the model.\n",
    "\n",
    "Here we will take the results of the initial model in terms of the top 10 features, and generate a new model with only the top 10 features.\n",
    "\n",
    "Similar to the prior logistic regression model, activation of the pipeline includes SMOTE for oversampling, scaling the data, followed by the model itself."
   ]
  },
  {
   "cell_type": "code",
   "execution_count": null,
   "metadata": {},
   "outputs": [],
   "source": [
    "# Creating a new data set with only the top 10 features of the gradient boost model\n",
    "features = fimportance_df(X_train_t.columns.to_list(),lr_score2)[:10]['Feature'].to_list()\n",
    "\n",
    "# X set with filtered features\n",
    "X_train_t2 = X_train_t[features]\n",
    "X_test_t2 = X_test_t[features]"
   ]
  },
  {
   "cell_type": "code",
   "execution_count": null,
   "metadata": {},
   "outputs": [],
   "source": [
    "lr2_pipe = make_pipeline(SMOTE(random_state=random_state),\n",
    "                        MinMaxScaler(),\n",
    "                           \n",
    "                           ### Insert Model here for future modelling ###\n",
    "                           \n",
    "                           LogisticRegression(max_iter=200, random_state=random_state)\n",
    "                          )\n",
    "\n",
    "\n",
    "# define grid params for logistic regression\n",
    "lr2_params = {\n",
    "    'logisticregression__C': [0.02, 0.05, 0.1],\n",
    "    'logisticregression__solver' : ['newton-cg','saga', 'sag', 'lbfgs'],\n",
    "    'logisticregression__multi_class': ['multinomial', 'ovr', 'auto'],\n",
    "    'logisticregression__penalty':['l1','l2','elasticnet'],\n",
    "    'logisticregression__l1_ratio':[None, 0.25,0.5,0.75],\n",
    "    'logisticregression__class_weight':[None, 'balanced']\n",
    "}\n",
    "\n",
    "# Instantiate GridSearchCV\n",
    "# Due to imbalanced data, scoring = roc & auc\n",
    "grid_lr2 = GridSearchCV(lr2_pipe, param_grid = lr2_params, verbose = 1, n_jobs=-1, cv=5, scoring='roc_auc')"
   ]
  },
  {
   "cell_type": "code",
   "execution_count": null,
   "metadata": {},
   "outputs": [],
   "source": [
    "grid_lr2.fit(X_train_t2,y_train)"
   ]
  },
  {
   "cell_type": "code",
   "execution_count": null,
   "metadata": {},
   "outputs": [],
   "source": [
    "print(\"best score\", grid_lr.best_score_)\n",
    "print(\"best params\", grid_lr.best_params_)"
   ]
  },
  {
   "cell_type": "code",
   "execution_count": null,
   "metadata": {},
   "outputs": [],
   "source": [
    "score(grid_lr2, X_train_t2, X_test_t2)"
   ]
  },
  {
   "cell_type": "code",
   "execution_count": null,
   "metadata": {},
   "outputs": [],
   "source": [
    "roc(grid_lr2,\"LogisticRegression\", X_train_t2, X_test_t2)"
   ]
  },
  {
   "cell_type": "markdown",
   "metadata": {},
   "source": [
    "### Scoring\n",
    "\n",
    "There is a significant drop of about 0.05 in the AUC score. However, the variance further drops, closing the gap between train and test scores at 0.004. This was not a good adjustment to the logistic regression model."
   ]
  },
  {
   "cell_type": "code",
   "execution_count": null,
   "metadata": {},
   "outputs": [],
   "source": [
    "lr_score3 = grid_lr2.best_estimator_.named_steps.logisticregression.coef_\n",
    "lr_score4 = [np.exp(i) for i in lr_score3[0]]\n",
    "fimportance(X_train_t2.columns.to_list(), lr_score4)"
   ]
  },
  {
   "cell_type": "markdown",
   "metadata": {},
   "source": [
    "### Feature Significance\n",
    "\n",
    "`species_tr` is now the leading feature by coefficient. One thing to note is that due to having many tied coefficients, the code clips at `snowfall` where the coefficient value of 1 is actually tied to many features. This may also affect the overall AUC score."
   ]
  },
  {
   "cell_type": "markdown",
   "metadata": {},
   "source": [
    "## Bias-Variance Tradeoff for Gradient Boost\n",
    "\n",
    "Since random forest and gradient boost are both tree-based models and both produced similar results, we will only pursue further modelling with the gradient boost model, where the variance is higher and there is more potential tuning.\n",
    "\n",
    "Similarly, activation pipeline includes SMOTE, followed by gradient boost classifier."
   ]
  },
  {
   "cell_type": "code",
   "execution_count": null,
   "metadata": {},
   "outputs": [],
   "source": [
    "# Creating a new data set with only the top 10 features of the gradient boost model\n",
    "\n",
    "features = fimportance_df(X_train_t.columns.to_list(),gb_score)[:10]['Feature'].to_list()\n",
    "\n",
    "# X set with filtered features\n",
    "X_train_t1 = X_train_t[features]\n",
    "X_test_t1 = X_test_t[features]\n",
    "\n",
    "# create modelling pipeline with SMOTE to deal with imbalanced classes\n",
    "\n",
    "gb_pipe1 = make_pipeline(SMOTE(random_state=random_state),\n",
    "                           \n",
    "                           ### Insert Model here for future modelling ###\n",
    "                           \n",
    "                           GradientBoostingClassifier(random_state=random_state,\n",
    "                                                      n_iter_no_change=1)\n",
    "                          )\n",
    "\n",
    "\n",
    "# define grid params for gradient boosting\n",
    "gb_params1 = {\n",
    "    'gradientboostingclassifier__learning_rate': [0.1, 0.2, 0.3],\n",
    "    'gradientboostingclassifier__criterion' : ['friedman_mse','mse'],\n",
    "    'gradientboostingclassifier__n_estimators': [10,20,30],\n",
    "    'gradientboostingclassifier__max_features':['sqrt','log2'],\n",
    "    'gradientboostingclassifier__loss':['deviance','exponential']\n",
    "}\n",
    "\n",
    "        \n",
    "# Instantiate GridSearchCV\n",
    "# Due to imbalanced data, scoring = roc & auc\n",
    "grid_gb1 = GridSearchCV(gb_pipe1, param_grid = gb_params1, verbose = 1, n_jobs=-1, cv=5, scoring='roc_auc')"
   ]
  },
  {
   "cell_type": "code",
   "execution_count": null,
   "metadata": {
    "scrolled": true
   },
   "outputs": [],
   "source": [
    "grid_gb1.fit(X_train_t1, y_train)"
   ]
  },
  {
   "cell_type": "code",
   "execution_count": null,
   "metadata": {},
   "outputs": [],
   "source": [
    "print(\"best score\", grid_gb1.best_score_)\n",
    "print(\"best params\", grid_gb1.best_params_)"
   ]
  },
  {
   "cell_type": "code",
   "execution_count": null,
   "metadata": {},
   "outputs": [],
   "source": [
    "score(grid_gb1, X_train_t1, X_test_t1)"
   ]
  },
  {
   "cell_type": "code",
   "execution_count": null,
   "metadata": {
    "scrolled": false
   },
   "outputs": [],
   "source": [
    "roc(grid_gb1,\"GradientBoostClassifier\", X_train_t1, X_test_t1)"
   ]
  },
  {
   "cell_type": "markdown",
   "metadata": {},
   "source": [
    "### Scoring\n",
    "\n",
    "Here we can see an improvement in terms of bias variance tradeoff. Gap between the train and test scores has shrunk from 0.07 to 0.03. AUC score, however, has dropped by about 0.01.\n",
    "\n",
    "Precision and recall for predicting the presence of West Nile Virus is still significantly lower than predicting the absence of West Nile Virus, but there is a notable improvement in the recall score for class 1."
   ]
  },
  {
   "cell_type": "code",
   "execution_count": null,
   "metadata": {},
   "outputs": [],
   "source": [
    "gb_score1 = grid_gb1.best_estimator_.named_steps.gradientboostingclassifier.feature_importances_\n",
    "\n",
    "fimportance(X_train_t1.columns.to_list(),gb_score1)"
   ]
  },
  {
   "cell_type": "markdown",
   "metadata": {},
   "source": [
    "### Feature Significance\n",
    "\n",
    "Here we can observe that feature importances are largely the same, except for `weekday` that had dropped 2 places."
   ]
  },
  {
   "cell_type": "markdown",
   "metadata": {},
   "source": [
    "## Kaggle Submission"
   ]
  },
  {
   "cell_type": "code",
   "execution_count": null,
   "metadata": {},
   "outputs": [],
   "source": [
    "test = pd.read_csv(\"./asset/full_test.csv\",index_col='Unnamed: 0')\n",
    "#test.drop([\"id\",\"trap\"],axis=1,inplace=True)\n",
    "test.info()"
   ]
  },
  {
   "cell_type": "code",
   "execution_count": null,
   "metadata": {},
   "outputs": [],
   "source": [
    "test=preprocess_pipe.transform(test)"
   ]
  },
  {
   "cell_type": "code",
   "execution_count": null,
   "metadata": {},
   "outputs": [],
   "source": [
    "# Using our tuned gradient boost model to predict\n",
    "proba = grid_gb1.predict_proba(test[features]) # features refer to the top 10 features picked for our gradient boosted model"
   ]
  },
  {
   "cell_type": "code",
   "execution_count": null,
   "metadata": {},
   "outputs": [],
   "source": [
    "# Create new dataframe for kaggle submission\n",
    "kaggle_submission = pd.DataFrame(proba)\n",
    "kaggle_submission.head()"
   ]
  },
  {
   "cell_type": "code",
   "execution_count": null,
   "metadata": {},
   "outputs": [],
   "source": [
    "test_index = test['id']\n",
    "test_index.reset_index(drop=True,inplace=True)\n",
    "\n",
    "# create Id column\n",
    "kaggle_submission[\"Id\"] = test_index\n",
    "\n",
    "# Map 1 as WnvPresent as per submission requirement\n",
    "kaggle_submission.rename(columns={1:\"WnvPresent\"},inplace=True)\n",
    "kaggle_submission[[\"Id\",\"WnvPresent\"]].head()"
   ]
  },
  {
   "cell_type": "code",
   "execution_count": null,
   "metadata": {},
   "outputs": [],
   "source": [
    "# Export to submit\n",
    "kaggle_submission[[\"Id\",\"WnvPresent\"]].to_csv(\"./asset/kaggle.csv\",index=False)"
   ]
  },
  {
   "cell_type": "markdown",
   "metadata": {},
   "source": [
    "The model performs well, predicting well above the baseline of 0.5. However, it is still rather overfitted:\n",
    "<img src=\"./asset/results.png\">"
   ]
  },
  {
   "cell_type": "markdown",
   "metadata": {},
   "source": [
    "## Conclusion\n",
    "\n",
    "### Cost Benefit Analysis\n",
    "\n",
    "#### Factors taken into consideration for cost analysis:\n",
    "\n",
    "1. Cost impact of West Nile Virus\n",
    "2. Fixed costs for vector control (i.e transportation fees, human resource, etc)\n",
    "3. Variable costs for vector control (i.e. insecticide, fuel costs, etc)\n",
    "4. Effectiveness of of spraying is 100%\n",
    "\n",
    "#### Key Assumptions:\n",
    "\n",
    "Based on the above mentioned factors, several assumptions were taken for this cost benefit analysis:\n",
    "\n",
    "1. Annual inflation is not taken into consideration.\n",
    "2. Medical treatment cost for Sacramento county is same as for the city of Chicago\n",
    "3. Breakdown of Cost of Spraying is 50% fixed cost and 50% variable cost\n",
    "\n",
    "Given the data from Sacramento's case study, the following conclusions were drawn:\n",
    "\n",
    "| Breakeven Table                               | unit      | Best Case  Scenario | 25% of Chicago  Area | 50% of Chicago  Area | 75% of Chicago  Area | Worst Case  Scenario (100%) |\n",
    "| :-------------------------------------------- | :---------: | :-----------------: | :------------------: | :------------------: | :------------------: | :-------------------------: |\n",
    "| Infected Area                                 | km²       |          1          |        147.5         |         295          |        442.5         |             590             |\n",
    "| Fixed Cost per  Spray (A)                     | \\$         |       351,631       |       351,631        |       351,631        |       351,631        |           351,631           |\n",
    "| Variable Cost  per spray (B)                  | \\$         |         736         |       108,505        |       217,011        |       325,516        |           434,021           |\n",
    "| Total Spray  Cost (A + B)                     | \\$         |       352,366       |       460,136        |       568,641        |       677,146        |           785,652           |\n",
    "| Treament Cost  per Case (C )                  | \\$         |       49,565        |        49,565        |        49,565        |        49,565        |           49,565            |\n",
    "| Cases Required to break even     ( A+ B ) / C | No. Cases |          8          |          10          |          12          |          14          |             16              |\n",
    "\n",
    "### Future Recommendation\n",
    "\n",
    "We could further improve upon the prediction with several exploratory solutions:\n",
    "\n",
    "1. Perform more hyperparameter tuning\n",
    "2. Using spray data to create additional features\n",
    "3. Creating another model to predict \"nummosquitos\" as a feature (preliminary modelling of the training set suggest that this was the single most important feature, but was later dropped due to its absence in test.csv)\n",
    "4. Gather more external data such as population density by neighbourhood to create a more detailed cost benefit analysis"
   ]
  },
  {
   "cell_type": "code",
   "execution_count": null,
   "metadata": {},
   "outputs": [],
   "source": []
  }
 ],
 "metadata": {
  "kernelspec": {
   "display_name": "Python 3",
   "language": "python",
   "name": "python3"
  },
  "language_info": {
   "codemirror_mode": {
    "name": "ipython",
    "version": 3
   },
   "file_extension": ".py",
   "mimetype": "text/x-python",
   "name": "python",
   "nbconvert_exporter": "python",
   "pygments_lexer": "ipython3",
   "version": "3.8.5"
  }
 },
 "nbformat": 4,
 "nbformat_minor": 4
}
